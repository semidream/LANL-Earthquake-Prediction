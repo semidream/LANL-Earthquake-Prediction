{
 "cells": [
  {
   "cell_type": "code",
   "execution_count": 1,
   "metadata": {},
   "outputs": [],
   "source": [
    "from dask.distributed import Client\n",
    "import dask.dataframe as dd\n",
    "import pandas as pd\n",
    "import numpy as np\n",
    "\n",
    "import matplotlib.pyplot as plt\n",
    "from tqdm import tqdm\n",
    "from sklearn.preprocessing import StandardScaler\n",
    "from sklearn.svm import NuSVR\n",
    "from sklearn.metrics import mean_absolute_error"
   ]
  },
  {
   "cell_type": "code",
   "execution_count": null,
   "metadata": {},
   "outputs": [],
   "source": [
    "pd.options.display.precision = 15"
   ]
  },
  {
   "cell_type": "code",
   "execution_count": 2,
   "metadata": {},
   "outputs": [],
   "source": [
    "client = Client(n_workers=10, threads_per_worker=1, processes=True, memory_limit='1.5GB', ip= '0.0.0.0')"
   ]
  },
  {
   "cell_type": "code",
   "execution_count": 3,
   "metadata": {},
   "outputs": [
    {
     "data": {
      "text/html": [
       "<table style=\"border: 2px solid white;\">\n",
       "<tr>\n",
       "<td style=\"vertical-align: top; border: 0px solid white\">\n",
       "<h3>Client</h3>\n",
       "<ul>\n",
       "  <li><b>Scheduler: </b>tcp://192.168.3.10:40913\n",
       "  <li><b>Dashboard: </b><a href='http://192.168.3.10:8787/status' target='_blank'>http://192.168.3.10:8787/status</a>\n",
       "</ul>\n",
       "</td>\n",
       "<td style=\"vertical-align: top; border: 0px solid white\">\n",
       "<h3>Cluster</h3>\n",
       "<ul>\n",
       "  <li><b>Workers: </b>10</li>\n",
       "  <li><b>Cores: </b>10</li>\n",
       "  <li><b>Memory: </b>15.00 GB</li>\n",
       "</ul>\n",
       "</td>\n",
       "</tr>\n",
       "</table>"
      ],
      "text/plain": [
       "<Client: scheduler='tcp://192.168.3.10:40913' processes=10 cores=10>"
      ]
     },
     "execution_count": 3,
     "metadata": {},
     "output_type": "execute_result"
    }
   ],
   "source": [
    "client"
   ]
  },
  {
   "cell_type": "code",
   "execution_count": 4,
   "metadata": {},
   "outputs": [],
   "source": [
    "train = dd.read_csv('train.csv', dtype={'acoustic_data': np.int16, 'time_to_failure': np.float64})"
   ]
  },
  {
   "cell_type": "code",
   "execution_count": 15,
   "metadata": {},
   "outputs": [],
   "source": [
    "train_head = train.head(20000000)"
   ]
  },
  {
   "cell_type": "code",
   "execution_count": 17,
   "metadata": {},
   "outputs": [
    {
     "data": {
      "text/plain": [
       "149999     4.884113333333334\n",
       "164999     4.842586666666667\n",
       "179999     4.807746666666667\n",
       "194999     4.793653333333333\n",
       "209999     4.777573333333334\n",
       "224999     4.728026666666667\n",
       "239999     4.680706666666667\n",
       "254999     4.652033333333334\n",
       "269999     4.653333333333333\n",
       "284999     4.675140000000000\n",
       "299999     4.706993333333333\n",
       "314999     4.700413333333334\n",
       "329999     4.709920000000000\n",
       "344999     4.711113333333333\n",
       "359999     4.734433333333333\n",
       "374999     4.753000000000000\n",
       "389999     4.791860000000000\n",
       "404999     4.811353333333333\n",
       "419999     4.830240000000000\n",
       "434999     4.863920000000000\n",
       "449999     4.901273333333333\n",
       "464999     4.928286666666667\n",
       "479999     4.944086666666666\n",
       "494999     4.954646666666667\n",
       "509999     4.934573333333334\n",
       "524999     4.913006666666667\n",
       "539999     4.901280000000000\n",
       "554999     4.896853333333334\n",
       "569999     4.901786666666666\n",
       "584999     4.890986666666667\n",
       "                 ...        \n",
       "3629999    4.474953333333334\n",
       "3644999    4.451006666666666\n",
       "3659999    4.445153333333334\n",
       "3674999    4.441506666666666\n",
       "3689999    4.448160000000000\n",
       "3704999    4.457566666666667\n",
       "3719999    4.421106666666667\n",
       "3734999    4.396380000000000\n",
       "3749999    4.397660000000000\n",
       "3764999    4.388693333333333\n",
       "3779999    4.420180000000000\n",
       "3794999    4.456293333333333\n",
       "3809999    4.465646666666666\n",
       "3824999    4.457180000000000\n",
       "3839999    4.447093333333333\n",
       "3854999    4.426473333333333\n",
       "3869999    4.462146666666666\n",
       "3884999    4.507273333333333\n",
       "3899999    4.519193333333333\n",
       "3914999    4.528220000000000\n",
       "3929999    4.537460000000000\n",
       "3944999    4.548946666666667\n",
       "3959999    4.594446666666666\n",
       "3974999    4.633006666666667\n",
       "3989999    4.664593333333333\n",
       "4004999    4.704073333333334\n",
       "4019999    4.716820000000000\n",
       "4034999    4.722180000000000\n",
       "4049999    4.693926666666667\n",
       "4064999    4.649126666666667\n",
       "Name: acoustic_data, Length: 262, dtype: float64"
      ]
     },
     "execution_count": 17,
     "metadata": {},
     "output_type": "execute_result"
    }
   ],
   "source": [
    "train_head.acoustic_data.rolling(window=150000).mean().dropna()[::15000]"
   ]
  },
  {
   "cell_type": "code",
   "execution_count": 13,
   "metadata": {},
   "outputs": [
    {
     "ename": "AttributeError",
     "evalue": "'Rolling' object has no attribute 'last'",
     "output_type": "error",
     "traceback": [
      "\u001b[0;31m---------------------------------------------------------------------------\u001b[0m",
      "\u001b[0;31mAttributeError\u001b[0m                            Traceback (most recent call last)",
      "\u001b[0;32m<ipython-input-13-ee80d0acb652>\u001b[0m in \u001b[0;36m<module>\u001b[0;34m()\u001b[0m\n\u001b[0;32m----> 1\u001b[0;31m \u001b[0mtrain_head\u001b[0m\u001b[0;34m.\u001b[0m\u001b[0macoustic_data\u001b[0m\u001b[0;34m.\u001b[0m\u001b[0mrolling\u001b[0m\u001b[0;34m(\u001b[0m\u001b[0mwindow\u001b[0m\u001b[0;34m=\u001b[0m\u001b[0;36m150000\u001b[0m\u001b[0;34m)\u001b[0m\u001b[0;34m.\u001b[0m\u001b[0mlast\u001b[0m\u001b[0;34m(\u001b[0m\u001b[0;34m)\u001b[0m\u001b[0;34m\u001b[0m\u001b[0;34m\u001b[0m\u001b[0m\n\u001b[0m",
      "\u001b[0;32m~/anaconda3/lib/python3.6/site-packages/pandas/core/window.py\u001b[0m in \u001b[0;36m__getattr__\u001b[0;34m(self, attr)\u001b[0m\n\u001b[1;32m    161\u001b[0m \u001b[0;34m\u001b[0m\u001b[0m\n\u001b[1;32m    162\u001b[0m         raise AttributeError(\"%r object has no attribute %r\" %\n\u001b[0;32m--> 163\u001b[0;31m                              (type(self).__name__, attr))\n\u001b[0m\u001b[1;32m    164\u001b[0m \u001b[0;34m\u001b[0m\u001b[0m\n\u001b[1;32m    165\u001b[0m     \u001b[0;32mdef\u001b[0m \u001b[0m_dir_additions\u001b[0m\u001b[0;34m(\u001b[0m\u001b[0mself\u001b[0m\u001b[0;34m)\u001b[0m\u001b[0;34m:\u001b[0m\u001b[0;34m\u001b[0m\u001b[0;34m\u001b[0m\u001b[0m\n",
      "\u001b[0;31mAttributeError\u001b[0m: 'Rolling' object has no attribute 'last'"
     ]
    }
   ],
   "source": [
    "train_head.acoustic_data.rolling(window=150000)."
   ]
  }
 ],
 "metadata": {
  "kernelspec": {
   "display_name": "Python 3",
   "language": "python",
   "name": "python3"
  },
  "language_info": {
   "codemirror_mode": {
    "name": "ipython",
    "version": 3
   },
   "file_extension": ".py",
   "mimetype": "text/x-python",
   "name": "python",
   "nbconvert_exporter": "python",
   "pygments_lexer": "ipython3",
   "version": "3.6.8"
  }
 },
 "nbformat": 4,
 "nbformat_minor": 2
}
