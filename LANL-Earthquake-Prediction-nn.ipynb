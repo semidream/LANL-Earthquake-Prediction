{
 "cells": [
  {
   "cell_type": "code",
   "execution_count": 1,
   "metadata": {},
   "outputs": [],
   "source": [
    "from dask.distributed import Client\n",
    "import dask.dataframe as dd\n",
    "import pandas as pd\n",
    "import numpy as np\n",
    "import os\n",
    "\n",
    "import matplotlib.pyplot as plt\n",
    "from tqdm import tqdm\n",
    "from sklearn.preprocessing import StandardScaler\n",
    "from sklearn.svm import NuSVR\n",
    "from sklearn.metrics import mean_absolute_error\n",
    "from sklearn.model_selection import train_test_split"
   ]
  },
  {
   "cell_type": "code",
   "execution_count": 2,
   "metadata": {},
   "outputs": [],
   "source": [
    "pd.options.display.precision = 15"
   ]
  },
  {
   "cell_type": "code",
   "execution_count": 3,
   "metadata": {},
   "outputs": [],
   "source": [
    "client = Client(n_workers=11, threads_per_worker=1, processes=True, memory_limit='2GB', ip= '0.0.0.0')"
   ]
  },
  {
   "cell_type": "code",
   "execution_count": 4,
   "metadata": {},
   "outputs": [
    {
     "data": {
      "text/html": [
       "<table style=\"border: 2px solid white;\">\n",
       "<tr>\n",
       "<td style=\"vertical-align: top; border: 0px solid white\">\n",
       "<h3>Client</h3>\n",
       "<ul>\n",
       "  <li><b>Scheduler: </b>tcp://192.168.3.10:44057\n",
       "  <li><b>Dashboard: </b><a href='http://192.168.3.10:8787/status' target='_blank'>http://192.168.3.10:8787/status</a>\n",
       "</ul>\n",
       "</td>\n",
       "<td style=\"vertical-align: top; border: 0px solid white\">\n",
       "<h3>Cluster</h3>\n",
       "<ul>\n",
       "  <li><b>Workers: </b>11</li>\n",
       "  <li><b>Cores: </b>11</li>\n",
       "  <li><b>Memory: </b>22.00 GB</li>\n",
       "</ul>\n",
       "</td>\n",
       "</tr>\n",
       "</table>"
      ],
      "text/plain": [
       "<Client: scheduler='tcp://192.168.3.10:44057' processes=11 cores=11>"
      ]
     },
     "execution_count": 4,
     "metadata": {},
     "output_type": "execute_result"
    }
   ],
   "source": [
    "client"
   ]
  },
  {
   "cell_type": "code",
   "execution_count": 5,
   "metadata": {
    "scrolled": true
   },
   "outputs": [],
   "source": [
    "train = dd.read_csv('train_csv/*', dtype={'acoustic_data': np.int16, 'time_to_failure': np.float64})"
   ]
  },
  {
   "cell_type": "code",
   "execution_count": 6,
   "metadata": {},
   "outputs": [],
   "source": [
    "train_head = train.head(20000000)"
   ]
  },
  {
   "cell_type": "code",
   "execution_count": 7,
   "metadata": {},
   "outputs": [],
   "source": [
    "# Create a training file with simple derived features\n",
    "def get_train_data(df):\n",
    "    rows = 150_000\n",
    "    slide_rows = 2000\n",
    "    segments = int(np.floor((df.shape[0]-rows+slide_rows) / slide_rows))\n",
    "\n",
    "    X_train = pd.DataFrame(index=range(segments), dtype=np.float64,\n",
    "                           columns=['ave', 'std', 'max', 'min', 'fft_ave', 'fft_std', 'fft_max', 'fft_min'])\n",
    "    y_train = pd.DataFrame(index=range(segments), dtype=np.float64,\n",
    "                           columns=['time_to_failure'])\n",
    "    \n",
    "    \n",
    "\n",
    "    for segment in range(segments):\n",
    "        seg = df.iloc[segment*slide_rows:segment*slide_rows+rows]\n",
    "        x = seg['acoustic_data'].values\n",
    "        y = seg['time_to_failure'].values[-1]\n",
    "\n",
    "        y_train.loc[segment, 'time_to_failure'] = y\n",
    "\n",
    "        X_train.loc[segment, 'ave'] = x.mean()\n",
    "        X_train.loc[segment, 'std'] = x.std()\n",
    "        X_train.loc[segment, 'max'] = x.max()\n",
    "        X_train.loc[segment, 'min'] = x.min()\n",
    "        fft_val = np.abs(np.fft.fft(x))[1:]\n",
    "        X_train.loc[segment, 'fft_ave'] = fft_val.mean()\n",
    "        X_train.loc[segment, 'fft_std'] = fft_val.std()\n",
    "        X_train.loc[segment, 'fft_max'] = fft_val.max()\n",
    "        X_train.loc[segment, 'fft_min'] = fft_val.min()\n",
    "    X_train['label'] = y_train['time_to_failure']\n",
    "    return X_train"
   ]
  },
  {
   "cell_type": "code",
   "execution_count": 8,
   "metadata": {},
   "outputs": [],
   "source": [
    "train_data = train.map_partitions(get_train_data).compute()"
   ]
  },
  {
   "cell_type": "code",
   "execution_count": 9,
   "metadata": {},
   "outputs": [],
   "source": [
    "X_train, X_test, y_train, y_test = train_test_split(train_data.drop(columns='label'), train_data['label'], test_size=0.2, random_state=42)"
   ]
  },
  {
   "cell_type": "code",
   "execution_count": 10,
   "metadata": {},
   "outputs": [],
   "source": [
    "from xgboost import XGBModel"
   ]
  },
  {
   "cell_type": "code",
   "execution_count": 11,
   "metadata": {},
   "outputs": [],
   "source": [
    "def fair_obj(preds, dtrain):\n",
    "    \"\"\"y = c * abs(x) - c * np.log(abs(abs(x) + c))\"\"\"\n",
    "    x = dtrain - preds\n",
    "    c = 1\n",
    "    den = abs(x) + c\n",
    "    grad = c*x / den\n",
    "    hess = c*c / den ** 2\n",
    "    return grad, hess\n",
    "params = {'max_depth': 11,\n",
    "          'learning_rate': 0.3, \n",
    "          'n_estimators': 2000,\n",
    "#           'objective': fair_obj\n",
    "         }\n",
    "xgb_model = XGBModel(**params)"
   ]
  },
  {
   "cell_type": "code",
   "execution_count": 12,
   "metadata": {},
   "outputs": [
    {
     "data": {
      "text/plain": [
       "XGBModel(base_score=0.5, booster='gbtree', colsample_bylevel=1,\n",
       "     colsample_bytree=1, gamma=0, learning_rate=0.3, max_delta_step=0,\n",
       "     max_depth=11, min_child_weight=1, missing=None, n_estimators=2000,\n",
       "     n_jobs=1, nthread=None, objective='reg:linear', random_state=0,\n",
       "     reg_alpha=0, reg_lambda=1, scale_pos_weight=1, seed=None, silent=True,\n",
       "     subsample=1)"
      ]
     },
     "execution_count": 12,
     "metadata": {},
     "output_type": "execute_result"
    }
   ],
   "source": [
    "xgb_model.fit(X_train, y_train)"
   ]
  },
  {
   "cell_type": "code",
   "execution_count": 13,
   "metadata": {},
   "outputs": [
    {
     "data": {
      "text/plain": [
       "0.37758047622512986"
      ]
     },
     "execution_count": 13,
     "metadata": {},
     "output_type": "execute_result"
    }
   ],
   "source": [
    "y_pred = xgb_model.predict(X_test)\n",
    "mean_absolute_error(y_pred=y_pred, y_true=y_test)"
   ]
  },
  {
   "cell_type": "code",
   "execution_count": 14,
   "metadata": {},
   "outputs": [],
   "source": [
    "submission = pd.read_csv('sample_submission.csv')"
   ]
  },
  {
   "cell_type": "code",
   "execution_count": 15,
   "metadata": {},
   "outputs": [],
   "source": [
    "test = pd.DataFrame(columns=X_train.columns, dtype=np.float64, index=submission.seg_id)\n",
    "for seg_id in test.index:\n",
    "    seg = pd.read_csv('test/' + seg_id + '.csv')\n",
    "    \n",
    "    x = seg['acoustic_data'].values\n",
    "    \n",
    "    test.loc[seg_id, 'ave'] = x.mean()\n",
    "    test.loc[seg_id, 'std'] = x.std()\n",
    "    test.loc[seg_id, 'max'] = x.max()\n",
    "    test.loc[seg_id, 'min'] = x.min()\n",
    "    fft_val = np.abs(np.fft.fft(x))[1:]\n",
    "    test.loc[seg_id, 'fft_ave'] = fft_val.mean()\n",
    "    test.loc[seg_id, 'fft_std'] = fft_val.std()\n",
    "    test.loc[seg_id, 'fft_max'] = fft_val.max()\n",
    "    test.loc[seg_id, 'fft_min'] = fft_val.min()"
   ]
  },
  {
   "cell_type": "code",
   "execution_count": 16,
   "metadata": {},
   "outputs": [],
   "source": [
    "submission['time_to_failure'] = xgb_model.predict(test)"
   ]
  },
  {
   "cell_type": "code",
   "execution_count": 17,
   "metadata": {},
   "outputs": [],
   "source": [
    "submission.set_index('seg_id').to_csv('submission.csv')"
   ]
  },
  {
   "cell_type": "code",
   "execution_count": 18,
   "metadata": {},
   "outputs": [],
   "source": [
    "train_head = train.head(4000000)"
   ]
  },
  {
   "cell_type": "code",
   "execution_count": 19,
   "metadata": {},
   "outputs": [],
   "source": [
    "rows = 150000\n",
    "sample = train_head.iloc[18888:18888+rows]['acoustic_data']"
   ]
  }
 ],
 "metadata": {
  "kernelspec": {
   "display_name": "Python 3",
   "language": "python",
   "name": "python3"
  },
  "language_info": {
   "codemirror_mode": {
    "name": "ipython",
    "version": 3
   },
   "file_extension": ".py",
   "mimetype": "text/x-python",
   "name": "python",
   "nbconvert_exporter": "python",
   "pygments_lexer": "ipython3",
   "version": "3.6.8"
  }
 },
 "nbformat": 4,
 "nbformat_minor": 2
}
